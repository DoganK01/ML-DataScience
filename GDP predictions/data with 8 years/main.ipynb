{
 "cells": [
  {
   "cell_type": "code",
   "execution_count": 482,
   "metadata": {},
   "outputs": [],
   "source": [
    "import numpy as np\n",
    "import pandas as pd\n",
    "import matplotlib.pyplot as plt"
   ]
  },
  {
   "cell_type": "code",
   "execution_count": 483,
   "metadata": {},
   "outputs": [],
   "source": [
    "data=pd.read_csv(\"data.csv\")"
   ]
  },
  {
   "cell_type": "code",
   "execution_count": 484,
   "metadata": {},
   "outputs": [
    {
     "data": {
      "text/html": [
       "<div>\n",
       "<style scoped>\n",
       "    .dataframe tbody tr th:only-of-type {\n",
       "        vertical-align: middle;\n",
       "    }\n",
       "\n",
       "    .dataframe tbody tr th {\n",
       "        vertical-align: top;\n",
       "    }\n",
       "\n",
       "    .dataframe thead th {\n",
       "        text-align: right;\n",
       "    }\n",
       "</style>\n",
       "<table border=\"1\" class=\"dataframe\">\n",
       "  <thead>\n",
       "    <tr style=\"text-align: right;\">\n",
       "      <th></th>\n",
       "      <th>Place</th>\n",
       "      <th>Country</th>\n",
       "      <th>2022</th>\n",
       "      <th>2019</th>\n",
       "      <th>2020</th>\n",
       "      <th>2021</th>\n",
       "      <th>2023</th>\n",
       "      <th>2024</th>\n",
       "      <th>2025</th>\n",
       "      <th>2026</th>\n",
       "    </tr>\n",
       "  </thead>\n",
       "  <tbody>\n",
       "    <tr>\n",
       "      <th>0</th>\n",
       "      <td>1</td>\n",
       "      <td>United States</td>\n",
       "      <td>24796.076</td>\n",
       "      <td>21372.600</td>\n",
       "      <td>20893.750</td>\n",
       "      <td>22939.580</td>\n",
       "      <td>25938.159</td>\n",
       "      <td>26980.364</td>\n",
       "      <td>28035.085</td>\n",
       "      <td>29102.501</td>\n",
       "    </tr>\n",
       "    <tr>\n",
       "      <th>1</th>\n",
       "      <td>2</td>\n",
       "      <td>China</td>\n",
       "      <td>18463.130</td>\n",
       "      <td>14340.600</td>\n",
       "      <td>14866.741</td>\n",
       "      <td>16862.979</td>\n",
       "      <td>19993.495</td>\n",
       "      <td>21594.809</td>\n",
       "      <td>23266.926</td>\n",
       "      <td>24996.040</td>\n",
       "    </tr>\n",
       "    <tr>\n",
       "      <th>2</th>\n",
       "      <td>3</td>\n",
       "      <td>Japan</td>\n",
       "      <td>5383.682</td>\n",
       "      <td>5135.896</td>\n",
       "      <td>5045.101</td>\n",
       "      <td>5103.110</td>\n",
       "      <td>5735.342</td>\n",
       "      <td>5958.651</td>\n",
       "      <td>6161.841</td>\n",
       "      <td>6344.454</td>\n",
       "    </tr>\n",
       "    <tr>\n",
       "      <th>3</th>\n",
       "      <td>4</td>\n",
       "      <td>Germany</td>\n",
       "      <td>4557.350</td>\n",
       "      <td>3888.756</td>\n",
       "      <td>3843.335</td>\n",
       "      <td>4230.172</td>\n",
       "      <td>4774.082</td>\n",
       "      <td>4985.991</td>\n",
       "      <td>5194.802</td>\n",
       "      <td>5406.142</td>\n",
       "    </tr>\n",
       "    <tr>\n",
       "      <th>4</th>\n",
       "      <td>5</td>\n",
       "      <td>United Kingdom</td>\n",
       "      <td>3442.205</td>\n",
       "      <td>2833.301</td>\n",
       "      <td>2709.678</td>\n",
       "      <td>3108.416</td>\n",
       "      <td>3582.338</td>\n",
       "      <td>3761.685</td>\n",
       "      <td>3959.370</td>\n",
       "      <td>4161.703</td>\n",
       "    </tr>\n",
       "  </tbody>\n",
       "</table>\n",
       "</div>"
      ],
      "text/plain": [
       "   Place         Country       2022       2019       2020       2021  \\\n",
       "0      1   United States  24796.076  21372.600  20893.750  22939.580   \n",
       "1      2           China  18463.130  14340.600  14866.741  16862.979   \n",
       "2      3           Japan   5383.682   5135.896   5045.101   5103.110   \n",
       "3      4         Germany   4557.350   3888.756   3843.335   4230.172   \n",
       "4      5  United Kingdom   3442.205   2833.301   2709.678   3108.416   \n",
       "\n",
       "        2023       2024       2025       2026  \n",
       "0  25938.159  26980.364  28035.085  29102.501  \n",
       "1  19993.495  21594.809  23266.926  24996.040  \n",
       "2   5735.342   5958.651   6161.841   6344.454  \n",
       "3   4774.082   4985.991   5194.802   5406.142  \n",
       "4   3582.338   3761.685   3959.370   4161.703  "
      ]
     },
     "execution_count": 484,
     "metadata": {},
     "output_type": "execute_result"
    }
   ],
   "source": [
    "data.head(5)"
   ]
  },
  {
   "cell_type": "code",
   "execution_count": 485,
   "metadata": {},
   "outputs": [
    {
     "data": {
      "text/plain": [
       "Place      0\n",
       "Country    0\n",
       "2022       0\n",
       "2019       0\n",
       "2020       0\n",
       "2021       0\n",
       "2023       0\n",
       "2024       0\n",
       "2025       0\n",
       "2026       0\n",
       "dtype: int64"
      ]
     },
     "execution_count": 485,
     "metadata": {},
     "output_type": "execute_result"
    }
   ],
   "source": [
    "data.isna().sum()"
   ]
  },
  {
   "cell_type": "code",
   "execution_count": 486,
   "metadata": {},
   "outputs": [
    {
     "name": "stdout",
     "output_type": "stream",
     "text": [
      "<class 'pandas.core.frame.DataFrame'>\n",
      "RangeIndex: 193 entries, 0 to 192\n",
      "Data columns (total 10 columns):\n",
      " #   Column   Non-Null Count  Dtype  \n",
      "---  ------   --------------  -----  \n",
      " 0   Place    193 non-null    int64  \n",
      " 1   Country  193 non-null    object \n",
      " 2   2022     193 non-null    float64\n",
      " 3   2019     193 non-null    float64\n",
      " 4   2020     193 non-null    float64\n",
      " 5   2021     193 non-null    float64\n",
      " 6   2023     193 non-null    float64\n",
      " 7   2024     193 non-null    float64\n",
      " 8   2025     193 non-null    float64\n",
      " 9   2026     193 non-null    float64\n",
      "dtypes: float64(8), int64(1), object(1)\n",
      "memory usage: 15.2+ KB\n"
     ]
    }
   ],
   "source": [
    "data.info()"
   ]
  },
  {
   "cell_type": "code",
   "execution_count": 487,
   "metadata": {},
   "outputs": [
    {
     "data": {
      "text/html": [
       "<div>\n",
       "<style scoped>\n",
       "    .dataframe tbody tr th:only-of-type {\n",
       "        vertical-align: middle;\n",
       "    }\n",
       "\n",
       "    .dataframe tbody tr th {\n",
       "        vertical-align: top;\n",
       "    }\n",
       "\n",
       "    .dataframe thead th {\n",
       "        text-align: right;\n",
       "    }\n",
       "</style>\n",
       "<table border=\"1\" class=\"dataframe\">\n",
       "  <thead>\n",
       "    <tr style=\"text-align: right;\">\n",
       "      <th></th>\n",
       "      <th>2022</th>\n",
       "      <th>2019</th>\n",
       "      <th>2020</th>\n",
       "      <th>2021</th>\n",
       "      <th>2023</th>\n",
       "      <th>2024</th>\n",
       "      <th>2025</th>\n",
       "      <th>2026</th>\n",
       "    </tr>\n",
       "  </thead>\n",
       "  <tbody>\n",
       "    <tr>\n",
       "      <th>0</th>\n",
       "      <td>24796.076</td>\n",
       "      <td>21372.600</td>\n",
       "      <td>20893.750</td>\n",
       "      <td>22939.580</td>\n",
       "      <td>25938.159</td>\n",
       "      <td>26980.364</td>\n",
       "      <td>28035.085</td>\n",
       "      <td>29102.501</td>\n",
       "    </tr>\n",
       "    <tr>\n",
       "      <th>1</th>\n",
       "      <td>18463.130</td>\n",
       "      <td>14340.600</td>\n",
       "      <td>14866.741</td>\n",
       "      <td>16862.979</td>\n",
       "      <td>19993.495</td>\n",
       "      <td>21594.809</td>\n",
       "      <td>23266.926</td>\n",
       "      <td>24996.040</td>\n",
       "    </tr>\n",
       "    <tr>\n",
       "      <th>2</th>\n",
       "      <td>5383.682</td>\n",
       "      <td>5135.896</td>\n",
       "      <td>5045.101</td>\n",
       "      <td>5103.110</td>\n",
       "      <td>5735.342</td>\n",
       "      <td>5958.651</td>\n",
       "      <td>6161.841</td>\n",
       "      <td>6344.454</td>\n",
       "    </tr>\n",
       "    <tr>\n",
       "      <th>3</th>\n",
       "      <td>4557.350</td>\n",
       "      <td>3888.756</td>\n",
       "      <td>3843.335</td>\n",
       "      <td>4230.172</td>\n",
       "      <td>4774.082</td>\n",
       "      <td>4985.991</td>\n",
       "      <td>5194.802</td>\n",
       "      <td>5406.142</td>\n",
       "    </tr>\n",
       "    <tr>\n",
       "      <th>4</th>\n",
       "      <td>3442.205</td>\n",
       "      <td>2833.301</td>\n",
       "      <td>2709.678</td>\n",
       "      <td>3108.416</td>\n",
       "      <td>3582.338</td>\n",
       "      <td>3761.685</td>\n",
       "      <td>3959.370</td>\n",
       "      <td>4161.703</td>\n",
       "    </tr>\n",
       "    <tr>\n",
       "      <th>5</th>\n",
       "      <td>3250.078</td>\n",
       "      <td>2870.504</td>\n",
       "      <td>2660.244</td>\n",
       "      <td>2946.061</td>\n",
       "      <td>3515.188</td>\n",
       "      <td>3791.005</td>\n",
       "      <td>4084.694</td>\n",
       "      <td>4393.812</td>\n",
       "    </tr>\n",
       "    <tr>\n",
       "      <th>6</th>\n",
       "      <td>3140.031</td>\n",
       "      <td>2728.834</td>\n",
       "      <td>2624.416</td>\n",
       "      <td>2940.428</td>\n",
       "      <td>3281.714</td>\n",
       "      <td>3415.953</td>\n",
       "      <td>3543.562</td>\n",
       "      <td>3668.236</td>\n",
       "    </tr>\n",
       "    <tr>\n",
       "      <th>7</th>\n",
       "      <td>2272.269</td>\n",
       "      <td>2005.135</td>\n",
       "      <td>1884.935</td>\n",
       "      <td>2120.232</td>\n",
       "      <td>2369.654</td>\n",
       "      <td>2453.016</td>\n",
       "      <td>2537.659</td>\n",
       "      <td>2618.242</td>\n",
       "    </tr>\n",
       "    <tr>\n",
       "      <th>8</th>\n",
       "      <td>2189.786</td>\n",
       "      <td>1741.576</td>\n",
       "      <td>1644.037</td>\n",
       "      <td>2015.983</td>\n",
       "      <td>2306.066</td>\n",
       "      <td>2413.394</td>\n",
       "      <td>2520.113</td>\n",
       "      <td>2630.942</td>\n",
       "    </tr>\n",
       "    <tr>\n",
       "      <th>9</th>\n",
       "      <td>1907.661</td>\n",
       "      <td>1651.423</td>\n",
       "      <td>1638.258</td>\n",
       "      <td>1823.852</td>\n",
       "      <td>2012.100</td>\n",
       "      <td>2115.032</td>\n",
       "      <td>2217.588</td>\n",
       "      <td>2316.211</td>\n",
       "    </tr>\n",
       "  </tbody>\n",
       "</table>\n",
       "</div>"
      ],
      "text/plain": [
       "        2022       2019       2020       2021       2023       2024  \\\n",
       "0  24796.076  21372.600  20893.750  22939.580  25938.159  26980.364   \n",
       "1  18463.130  14340.600  14866.741  16862.979  19993.495  21594.809   \n",
       "2   5383.682   5135.896   5045.101   5103.110   5735.342   5958.651   \n",
       "3   4557.350   3888.756   3843.335   4230.172   4774.082   4985.991   \n",
       "4   3442.205   2833.301   2709.678   3108.416   3582.338   3761.685   \n",
       "5   3250.078   2870.504   2660.244   2946.061   3515.188   3791.005   \n",
       "6   3140.031   2728.834   2624.416   2940.428   3281.714   3415.953   \n",
       "7   2272.269   2005.135   1884.935   2120.232   2369.654   2453.016   \n",
       "8   2189.786   1741.576   1644.037   2015.983   2306.066   2413.394   \n",
       "9   1907.661   1651.423   1638.258   1823.852   2012.100   2115.032   \n",
       "\n",
       "        2025       2026  \n",
       "0  28035.085  29102.501  \n",
       "1  23266.926  24996.040  \n",
       "2   6161.841   6344.454  \n",
       "3   5194.802   5406.142  \n",
       "4   3959.370   4161.703  \n",
       "5   4084.694   4393.812  \n",
       "6   3543.562   3668.236  \n",
       "7   2537.659   2618.242  \n",
       "8   2520.113   2630.942  \n",
       "9   2217.588   2316.211  "
      ]
     },
     "execution_count": 487,
     "metadata": {},
     "output_type": "execute_result"
    }
   ],
   "source": [
    "# Clear some useless columns\n",
    "data.drop(\"Place\",axis=1,inplace=True)\n",
    "data.drop(\"Country\",axis=1,inplace=True)\n",
    "data.head(10)"
   ]
  },
  {
   "cell_type": "code",
   "execution_count": 488,
   "metadata": {},
   "outputs": [
    {
     "data": {
      "image/png": "[encoded data removed]",
      "text/plain": [
       "<Figure size 1008x432 with 1 Axes>"
      ]
     },
     "metadata": {
      "needs_background": "light"
     },
     "output_type": "display_data"
    }
   ],
   "source": [
    "data.head(10).plot(kind=\"bar\",figsize=(14,6));"
   ]
  },
  {
   "cell_type": "code",
   "execution_count": 489,
   "metadata": {},
   "outputs": [
    {
     "name": "stdout",
     "output_type": "stream",
     "text": [
      "<class 'pandas.core.frame.DataFrame'>\n",
      "RangeIndex: 193 entries, 0 to 192\n",
      "Data columns (total 8 columns):\n",
      " #   Column  Non-Null Count  Dtype  \n",
      "---  ------  --------------  -----  \n",
      " 0   2022    193 non-null    float64\n",
      " 1   2019    193 non-null    float64\n",
      " 2   2020    193 non-null    float64\n",
      " 3   2021    193 non-null    float64\n",
      " 4   2023    193 non-null    float64\n",
      " 5   2024    193 non-null    float64\n",
      " 6   2025    193 non-null    float64\n",
      " 7   2026    193 non-null    float64\n",
      "dtypes: float64(8)\n",
      "memory usage: 12.2 KB\n"
     ]
    }
   ],
   "source": [
    "data.info()"
   ]
  },
  {
   "cell_type": "code",
   "execution_count": 490,
   "metadata": {},
   "outputs": [],
   "source": [
    "# Test Train sets\n",
    "data_test=data[\"2026\"]\n",
    "data_train=data.drop(\"2026\",axis=1)\n"
   ]
  },
  {
   "cell_type": "code",
   "execution_count": 491,
   "metadata": {},
   "outputs": [
    {
     "data": {
      "text/plain": [
       "(None, None)"
      ]
     },
     "execution_count": 491,
     "metadata": {},
     "output_type": "execute_result"
    }
   ],
   "source": [
    "data_train.to_csv(\"train.csv\"),data_test.to_csv(\"test.csv\")"
   ]
  },
  {
   "cell_type": "code",
   "execution_count": 492,
   "metadata": {},
   "outputs": [],
   "source": [
    "from sklearn.ensemble import RandomForestRegressor\n",
    "from sklearn.linear_model import Ridge\n",
    "from sklearn.model_selection import train_test_split\n",
    "\n",
    "X_train,X_test,y_train,y_test = train_test_split(data_train, data_test,test_size=0.2)\n",
    "\n",
    "np.random.seed(42)\n",
    "models={\n",
    " \"Random Forest Classifier\":RandomForestRegressor(),\n",
    " \"Ridge\":Ridge()\n",
    "}\n",
    "\n",
    "def fit_and_evaluate(models,X_train,X_test,y_train,y_test):\n",
    "    \"\"\"\n",
    "    Fits and evaluates given ML models\n",
    "    \"\"\"\n",
    "    np.random.seed(42)\n",
    "    model_scores={}\n",
    "    \n",
    "    for name,model in models.items():\n",
    "        model.fit(X_train,y_train)\n",
    "        model_scores[name]=model.score(X_test,y_test)\n",
    "        best_model = max(model_scores, key=model_scores.get)        \n",
    "    print(\"best model is : \", best_model)\n",
    "    return model_scores"
   ]
  },
  {
   "cell_type": "code",
   "execution_count": 493,
   "metadata": {},
   "outputs": [
    {
     "name": "stdout",
     "output_type": "stream",
     "text": [
      "best model is :  Ridge\n"
     ]
    },
    {
     "data": {
      "text/plain": [
       "{'Random Forest Classifier': 0.9964798878951752, 'Ridge': 0.9999952224731563}"
      ]
     },
     "execution_count": 493,
     "metadata": {},
     "output_type": "execute_result"
    }
   ],
   "source": [
    "model_scores=fit_and_evaluate(models=models,X_train=X_train,X_test=X_test,y_train=y_train,y_test=y_test)\n",
    "model_scores"
   ]
  },
  {
   "cell_type": "code",
   "execution_count": 494,
   "metadata": {},
   "outputs": [
    {
     "data": {
      "image/png": "[encoded data removed]",
      "text/plain": [
       "<Figure size 720x432 with 1 Axes>"
      ]
     },
     "metadata": {
      "needs_background": "light"
     },
     "output_type": "display_data"
    }
   ],
   "source": [
    "model_compare=pd.DataFrame(model_scores,index=[\"accuracy\"])\n",
    "model_compare.T.plot(kind=\"bar\",figsize=(10,6));"
   ]
  },
  {
   "cell_type": "code",
   "execution_count": 499,
   "metadata": {},
   "outputs": [
    {
     "data": {
      "text/plain": [
       "Ridge(random_state=42)"
      ]
     },
     "execution_count": 499,
     "metadata": {},
     "output_type": "execute_result"
    }
   ],
   "source": [
    "model=Ridge(random_state=42)\n",
    "model.fit(X_train, y_train)"
   ]
  },
  {
   "cell_type": "code",
   "execution_count": 500,
   "metadata": {},
   "outputs": [],
   "source": [
    "y_preds=model.predict(X_test)\n",
    "predictions=pd.DataFrame({\"predictions for 2027 : \":y_preds})"
   ]
  },
  {
   "cell_type": "code",
   "execution_count": 511,
   "metadata": {},
   "outputs": [
    {
     "data": {
      "text/html": [
       "<div>\n",
       "<style scoped>\n",
       "    .dataframe tbody tr th:only-of-type {\n",
       "        vertical-align: middle;\n",
       "    }\n",
       "\n",
       "    .dataframe tbody tr th {\n",
       "        vertical-align: top;\n",
       "    }\n",
       "\n",
       "    .dataframe thead th {\n",
       "        text-align: right;\n",
       "    }\n",
       "</style>\n",
       "<table border=\"1\" class=\"dataframe\">\n",
       "  <thead>\n",
       "    <tr style=\"text-align: right;\">\n",
       "      <th></th>\n",
       "      <th>Actual Value :</th>\n",
       "      <th>Predicted Value :</th>\n",
       "    </tr>\n",
       "  </thead>\n",
       "  <tbody>\n",
       "    <tr>\n",
       "      <th>3</th>\n",
       "      <td>5406.142</td>\n",
       "      <td>5406.951361</td>\n",
       "    </tr>\n",
       "    <tr>\n",
       "      <th>6</th>\n",
       "      <td>3668.236</td>\n",
       "      <td>3673.176150</td>\n",
       "    </tr>\n",
       "    <tr>\n",
       "      <th>7</th>\n",
       "      <td>2618.242</td>\n",
       "      <td>2624.120043</td>\n",
       "    </tr>\n",
       "    <tr>\n",
       "      <th>9</th>\n",
       "      <td>2316.211</td>\n",
       "      <td>2324.668465</td>\n",
       "    </tr>\n",
       "    <tr>\n",
       "      <th>17</th>\n",
       "      <td>1290.764</td>\n",
       "      <td>1294.650963</td>\n",
       "    </tr>\n",
       "    <tr>\n",
       "      <th>20</th>\n",
       "      <td>1048.518</td>\n",
       "      <td>1045.575347</td>\n",
       "    </tr>\n",
       "    <tr>\n",
       "      <th>22</th>\n",
       "      <td>954.582</td>\n",
       "      <td>954.426707</td>\n",
       "    </tr>\n",
       "    <tr>\n",
       "      <th>24</th>\n",
       "      <td>736.648</td>\n",
       "      <td>738.249497</td>\n",
       "    </tr>\n",
       "    <tr>\n",
       "      <th>30</th>\n",
       "      <td>536.229</td>\n",
       "      <td>541.970112</td>\n",
       "    </tr>\n",
       "    <tr>\n",
       "      <th>42</th>\n",
       "      <td>438.120</td>\n",
       "      <td>438.554450</td>\n",
       "    </tr>\n",
       "  </tbody>\n",
       "</table>\n",
       "</div>"
      ],
      "text/plain": [
       "    Actual Value :  Predicted Value :\n",
       "3         5406.142        5406.951361\n",
       "6         3668.236        3673.176150\n",
       "7         2618.242        2624.120043\n",
       "9         2316.211        2324.668465\n",
       "17        1290.764        1294.650963\n",
       "20        1048.518        1045.575347\n",
       "22         954.582         954.426707\n",
       "24         736.648         738.249497\n",
       "30         536.229         541.970112\n",
       "42         438.120         438.554450"
      ]
     },
     "execution_count": 511,
     "metadata": {},
     "output_type": "execute_result"
    }
   ],
   "source": [
    "# Comparasion\n",
    "comparison=pd.DataFrame({\"Actual Value :\":y_test,\"Predicted Value :\":y_preds})\n",
    "comparison.sort_index(axis=0,inplace=True)\n",
    "comparison.head(10)\n"
   ]
  }
 ],
 "metadata": {
  "interpreter": {
   "hash": "1d48a3986f6ec083a61a990e3ebbd5c997c1b4a3450eeba266b299e54f7c66d7"
  },
  "kernelspec": {
   "display_name": "Python 3.6.6 64-bit",
   "language": "python",
   "name": "python3"
  },
  "language_info": {
   "codemirror_mode": {
    "name": "ipython",
    "version": 3
   },
   "file_extension": ".py",
   "mimetype": "text/x-python",
   "name": "python",
   "nbconvert_exporter": "python",
   "pygments_lexer": "ipython3",
   "version": "3.6.6"
  },
  "orig_nbformat": 4
 },
 "nbformat": 4,
 "nbformat_minor": 2
}
